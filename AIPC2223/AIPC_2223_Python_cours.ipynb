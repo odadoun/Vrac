{
 "cells": [
  {
   "cell_type": "markdown",
   "metadata": {
    "slideshow": {
     "slide_type": "slide"
    },
    "tags": []
   },
   "source": [
    "# AIPC 2022-2023\n",
    "\n",
    "<center>\n",
    "    <img src=\"https://physique.univ-paris-diderot.fr/sites/all/themes/diderot/logo.png\" height=\"300px\" alt=\"Logo Université Paris Diderot\" /> \n",
    "<img src=\"https://u-paris.fr/wp-content/uploads/2019/03/Universite_Paris_logo_horizontal.jpg\" height=300 alt=\"Logo Université de Paris\" />\n",
    "</center>\n",
    "\n",
    "---\n",
    "\n",
    "## Introduction à Python™\n",
    "![python logo](https://www.python.org/static/img/python-logo.png \"Python\")"
   ]
  },
  {
   "cell_type": "markdown",
   "metadata": {
    "slideshow": {
     "slide_type": "slide"
    }
   },
   "source": [
    "## Pourquoi devrais-je apprendre Python ?\n",
    "![python powered](https://www.python.org/static/community_logos/python-powered-w-200x80.png)"
   ]
  },
  {
   "cell_type": "markdown",
   "metadata": {
    "slideshow": {
     "slide_type": "fragment"
    }
   },
   "source": [
    "* Parce que c'est *cool* et parce que le logo est *fun*"
   ]
  },
  {
   "cell_type": "markdown",
   "metadata": {
    "slideshow": {
     "slide_type": "fragment"
    }
   },
   "source": [
    "* Parce que c'est gratuit et disponible sur toutes les plateformes\n",
    "* Parce que c'est un langage de haut niveau, qui est facile à lire en Anglais, et qui ne possède pas une syntaxe bizarre"
   ]
  },
  {
   "cell_type": "code",
   "execution_count": null,
   "metadata": {},
   "outputs": [],
   "source": [
    "import random\n",
    "def choose_color():\n",
    "    colors=['red','green','blue']\n",
    "    return random.choice(colors)\n",
    "\n",
    "my_color=choose_color()\n",
    "print(my_color)"
   ]
  },
  {
   "cell_type": "markdown",
   "metadata": {
    "slideshow": {
     "slide_type": "fragment"
    }
   },
   "source": [
    "* Parce que c'est un langage interprété qui peut être lancé en mode interactif\n",
    "* Parce qu'il est possible de faire de la science avec (il existe de nombreuses librairies)\n",
    "* Parce que c'est devenu un standard"
   ]
  },
  {
   "cell_type": "markdown",
   "metadata": {
    "slideshow": {
     "slide_type": "subslide"
    }
   },
   "source": [
    "## Pourquoi devrais-je apprendre Python ? (suite)\n",
    "* Parce que *je* dois !\n",
    "\n",
    "Extraits de programmes"
   ]
  },
  {
   "cell_type": "markdown",
   "metadata": {
    "slideshow": {
     "slide_type": "subslide"
    }
   },
   "source": [
    "* Seconde, sciences numériques \n",
    "![](https://lpnhe.in2p3.fr/spip.php?action=acceder_document&arg=3173&cle=c2cbbf205001bd52a7019e47788e17851f47fce1&file=png%2F2nde_ens_num.png)"
   ]
  },
  {
   "cell_type": "markdown",
   "metadata": {
    "slideshow": {
     "slide_type": "subslide"
    }
   },
   "source": [
    "* Seconde, physique chimie\n",
    "\n",
    "![](https://lpnhe.in2p3.fr/spip.php?action=acceder_document&arg=3174&cle=53af2f774d63f225ed0eb6273d3248226a141870&file=png%2F2nde_pc_1.png)\n",
    "\n",
    "![](https://lpnhe.in2p3.fr/spip.php?action=acceder_document&arg=3175&cle=8436c1f91ce50dd68091adc3eb290eba654b254f&file=png%2F2nde_pc_2.png)"
   ]
  },
  {
   "cell_type": "markdown",
   "metadata": {
    "slideshow": {
     "slide_type": "subslide"
    }
   },
   "source": [
    "* Première, enseignement scientifique\n",
    "\n",
    "![](https://lpnhe.in2p3.fr/spip.php?action=acceder_document&arg=3171&cle=18b02b25d4b2827e44fdbd6be6f6543e472f5bcc&file=png%2F1ere_ens_sci_1.png)\n",
    "\n",
    "---\n",
    "\n",
    "![](https://lpnhe.in2p3.fr/spip.php?action=acceder_document&arg=3172&cle=db47779325745ce488692cb6c9f28ce76f7624e4&file=png%2F1ere_ens_sci_2.png)"
   ]
  },
  {
   "cell_type": "markdown",
   "metadata": {},
   "source": [
    "* Programme de prépa, MPSI\n",
    "\n",
    "![](https://lpnhe.in2p3.fr/IMG/png/screenshot_from_2022-09-13_14-29-33.png?3470/f91a8f2c6d44ca508ecfe329af740d9732e28c87)\n",
    "\n",
    "![](https://lpnhe.in2p3.fr/IMG/png/screenshot_from_2022-09-13_14-29-57.png?3471/f875298daf840bdd03c9ec006d62c6c33e97261c)\n",
    "\n",
    "![](https://lpnhe.in2p3.fr/IMG/png/screenshot_from_2022-09-13_14-30-16.png?3472/5207f4d0fd54ee513c85b3e154c72b658bbbd8c7)"
   ]
  },
  {
   "cell_type": "markdown",
   "metadata": {},
   "source": [
    "* Voir aussi dans les <a href=\"http://www.agregation-interne-physique-chimie.org/rapports-de-jury.html\">rapports de jury de l'agrégation interne de Physique/Chimie</a>."
   ]
  },
  {
   "cell_type": "markdown",
   "metadata": {
    "slideshow": {
     "slide_type": "slide"
    }
   },
   "source": [
    "## Où et comment utiliser Python ? 1/2"
   ]
  },
  {
   "cell_type": "markdown",
   "metadata": {
    "slideshow": {
     "slide_type": "fragment"
    }
   },
   "source": [
    "### Au travers une interface *notebook* sur le *cloud*\n",
    "Pour :\n",
    "* rien à installer\n",
    "* facile à utiliser\n",
    "* tout est sur le *cloud*\n",
    "* outil sur la base d'un navigateur, donc fonctionnant sur toute plateforme\n",
    "* pas de souci de mises à jour\n",
    "\n",
    "Contre : \n",
    "* indisponible hors ligne\n",
    "* difficile d'interagir avec du matériel local\n",
    "\n",
    "Où ?\n",
    "* Ici à l'université http://jupy.physique.univ-paris-diderot.fr\n",
    "* Ailleurs comme https://colab.research.google.com ou https://mybinder.org/\n",
    "* Ou sur toute installation disponible comme https://capytale2.ac-paris.fr par exemple"
   ]
  },
  {
   "cell_type": "markdown",
   "metadata": {
    "jp-MarkdownHeadingCollapsed": true,
    "slideshow": {
     "slide_type": "subslide"
    },
    "tags": []
   },
   "source": [
    "## Où et comment utiliser Python ? 2/2\n",
    "### Sur une machine locales\n",
    "Poour : \n",
    "* toujours disponible quelque soit l'état du réseau\n",
    "* possible de gérer la version\n",
    "* interaction facilité avec du matériel\n",
    "\n",
    "Contre : \n",
    "* nécessite l'effectuer les installations et les mises à jour\n",
    "* non disponible sur le nuage (attention aux sauvegardes)\n",
    "\n",
    "Quelle version :\n",
    "* Python 3 (python 2 n'est plus maintenu depuis quelques mois)\n",
    "* Il est envisageable d'installer python via `spyder` oa `anaconda` (qui vient directement avec `spyder`, `iPython`, `SciPy`…)"
   ]
  },
  {
   "cell_type": "markdown",
   "metadata": {
    "slideshow": {
     "slide_type": "slide"
    }
   },
   "source": [
    "## Très courte introduction de l'utilisation du mode interactif\n",
    "\n",
    "Référence : https://docs.python.org/3/"
   ]
  },
  {
   "cell_type": "markdown",
   "metadata": {
    "slideshow": {
     "slide_type": "fragment"
    }
   },
   "source": [
    "### Faire un simple calcul"
   ]
  },
  {
   "cell_type": "code",
   "execution_count": null,
   "metadata": {},
   "outputs": [],
   "source": [
    "1+2+3"
   ]
  },
  {
   "cell_type": "markdown",
   "metadata": {},
   "source": [
    "Mais…"
   ]
  },
  {
   "cell_type": "code",
   "execution_count": null,
   "metadata": {
    "slideshow": {
     "slide_type": "fragment"
    }
   },
   "outputs": [],
   "source": [
    "sin(pi/2)"
   ]
  },
  {
   "cell_type": "markdown",
   "metadata": {
    "slideshow": {
     "slide_type": "fragment"
    }
   },
   "source": [
    "Vous devez alors utiliser le module `math` :"
   ]
  },
  {
   "cell_type": "code",
   "execution_count": null,
   "metadata": {},
   "outputs": [],
   "source": [
    "import math \n",
    "math.sin(math.pi/2)"
   ]
  },
  {
   "cell_type": "markdown",
   "metadata": {
    "slideshow": {
     "slide_type": "subslide"
    }
   },
   "source": [
    "Si vous ne souhaitez pas écrire à chaque fois `math.` au début des commandes :"
   ]
  },
  {
   "cell_type": "code",
   "execution_count": null,
   "metadata": {},
   "outputs": [],
   "source": [
    "import math as m\n",
    "m.sin(m.pi/2)"
   ]
  },
  {
   "cell_type": "markdown",
   "metadata": {
    "slideshow": {
     "slide_type": "fragment"
    }
   },
   "source": [
    "ou alors (même si c'est une méthode dangereuse car certains modules ont des noms de variables ou fonctions identiques)"
   ]
  },
  {
   "cell_type": "code",
   "execution_count": null,
   "metadata": {},
   "outputs": [],
   "source": [
    "# would be better to avoid this method\n",
    "# please note that you can add a comment adding a dash at the beg of a line\n",
    "from math import *\n",
    "sin(pi/2)"
   ]
  },
  {
   "cell_type": "markdown",
   "metadata": {
    "slideshow": {
     "slide_type": "subslide"
    }
   },
   "source": [
    "### Quelques types disponibles\n",
    "On peut soit laisser Python choisir le type par défaut ou alors forcer celui-ci."
   ]
  },
  {
   "cell_type": "code",
   "execution_count": null,
   "metadata": {},
   "outputs": [],
   "source": [
    "a=2\n",
    "print(a)\n",
    "print(type(a))\n",
    "\n",
    "b=12.34\n",
    "print(b)\n",
    "print(type(b))\n",
    "\n",
    "c=float(3)\n",
    "print(c)\n",
    "print(type(c))\n",
    "\n",
    "x=[0,1,2]\n",
    "print(x)\n",
    "print(type(x))\n",
    "\n",
    "s=\"hi everybody !\"\n",
    "print(s)\n",
    "print(type(s))"
   ]
  },
  {
   "cell_type": "markdown",
   "metadata": {
    "slideshow": {
     "slide_type": "subslide"
    }
   },
   "source": [
    "### Opérateurs\n",
    "Leur action est indépendante du type de la variablele"
   ]
  },
  {
   "cell_type": "code",
   "execution_count": null,
   "metadata": {},
   "outputs": [],
   "source": [
    "# addition with + for integers\n",
    "a=1\n",
    "b=2\n",
    "print(a+b)\n",
    "\n",
    "#concatenation with + for strings\n",
    "s1=\"hello \"\n",
    "s2=\"world\"\n",
    "print(s1+s2)"
   ]
  },
  {
   "cell_type": "markdown",
   "metadata": {},
   "source": [
    "Référence sur les opérateurs : voir https://docs.python.org/3/library/operator.html"
   ]
  },
  {
   "cell_type": "markdown",
   "metadata": {
    "slideshow": {
     "slide_type": "subslide"
    }
   },
   "source": [
    "### Listes, boucles simples et structures de contrôle"
   ]
  },
  {
   "cell_type": "code",
   "execution_count": null,
   "metadata": {},
   "outputs": [],
   "source": [
    "a=[1,2,3,4]\n",
    "b=[5,6,7,8]\n",
    "print(a+b)"
   ]
  },
  {
   "cell_type": "code",
   "execution_count": null,
   "metadata": {},
   "outputs": [],
   "source": [
    "for x in a:\n",
    "    print(x+2) # yes there is an indent here. Required for block of commands"
   ]
  },
  {
   "cell_type": "markdown",
   "metadata": {
    "slideshow": {
     "slide_type": "fragment"
    }
   },
   "source": [
    "Il est possible de créer des listes inhomogènes aussi"
   ]
  },
  {
   "cell_type": "code",
   "execution_count": null,
   "metadata": {},
   "outputs": [],
   "source": [
    "z=[0,True,3.4,\"pi\",[5,6]]\n",
    "print(z)\n",
    "print(type(z))"
   ]
  },
  {
   "cell_type": "markdown",
   "metadata": {
    "slideshow": {
     "slide_type": "subslide"
    }
   },
   "source": [
    "Afin d'accéder à un élément en particulier, il faut spécifier l'index, qui commence à 0."
   ]
  },
  {
   "cell_type": "code",
   "execution_count": null,
   "metadata": {},
   "outputs": [],
   "source": [
    "print(z[0])\n",
    "print(z[3])\n",
    "print(z[-1]) # means last element"
   ]
  },
  {
   "cell_type": "markdown",
   "metadata": {
    "slideshow": {
     "slide_type": "fragment"
    }
   },
   "source": [
    "Mais il n'est pas possible de vraiment faire du calcul scientifique avec des listes simples…"
   ]
  },
  {
   "cell_type": "code",
   "execution_count": null,
   "metadata": {},
   "outputs": [],
   "source": [
    "x=[1,2,3]\n",
    "print(2*x+3)"
   ]
  },
  {
   "cell_type": "markdown",
   "metadata": {
    "slideshow": {
     "slide_type": "subslide"
    }
   },
   "source": [
    "Pour en savoir plus sur le langage, en particulier sur les structures de contrôle (utilisation de `for`, `if`, `while`, ...), se référer à la documentation.\n",
    "\n",
    "https://docs.python.org/3/tutorial/controlflow.html?highlight=loop#\n",
    "\n",
    "Exemple avec l'algorithme d'Eratosthene."
   ]
  },
  {
   "cell_type": "code",
   "execution_count": null,
   "metadata": {
    "slideshow": {
     "slide_type": "fragment"
    }
   },
   "outputs": [],
   "source": [
    "def eratosthene(n):\n",
    "    n += 1\n",
    "    p = [0,0] + [i for i in range(2, n)]\n",
    "    for i in range(2, n):\n",
    "        if p[i] != 0:\n",
    "            for j in range(i*2, n, i):\n",
    "                p[j] = 0\n",
    "    return [v for v in p if v!=0]    \n",
    "\n",
    "eratosthene(50)"
   ]
  },
  {
   "cell_type": "code",
   "execution_count": null,
   "metadata": {
    "slideshow": {
     "slide_type": "skip"
    }
   },
   "outputs": [],
   "source": [
    "list(range(10))"
   ]
  },
  {
   "cell_type": "markdown",
   "metadata": {
    "slideshow": {
     "slide_type": "slide"
    }
   },
   "source": [
    "## Paquest scientiques\n",
    "\n",
    "<div>\n",
    "<img src=\"https://numpy.org/images/logo.svg\" width=\"40\"/> Numpy\n",
    "<img src=\"https://scipy.org/images/logo.svg\" width=\"40\"/> Scipy\n",
    "<img src=\"https://matplotlib.org/_static/images/documentation.png\" width=\"40\"/> Matplotlib\n",
    "</div>\n",
    "\n",
    "Références : https://www.scipy.org/\n",
    "\n",
    "Voyons quelques exemples pratiques."
   ]
  },
  {
   "cell_type": "markdown",
   "metadata": {
    "slideshow": {
     "slide_type": "subslide"
    }
   },
   "source": [
    "### Calcul avec des (numpy) arrays\n",
    "On se rappelle…"
   ]
  },
  {
   "cell_type": "code",
   "execution_count": null,
   "metadata": {},
   "outputs": [],
   "source": [
    "a=[1,2,3,4]\n",
    "b=[5,6,7,8]\n",
    "print(a+b)"
   ]
  },
  {
   "cell_type": "markdown",
   "metadata": {
    "slideshow": {
     "slide_type": "fragment"
    }
   },
   "source": [
    "Mais…"
   ]
  },
  {
   "cell_type": "code",
   "execution_count": null,
   "metadata": {},
   "outputs": [],
   "source": [
    "import numpy as np\n",
    "x=np.array(a)\n",
    "y=np.array(b)\n",
    "z=np.add(x,y)\n",
    "print(type(z))\n",
    "print(z)"
   ]
  },
  {
   "cell_type": "markdown",
   "metadata": {
    "slideshow": {
     "slide_type": "subslide"
    }
   },
   "source": [
    "Créer et utiliser un *range array* : "
   ]
  },
  {
   "cell_type": "code",
   "execution_count": null,
   "metadata": {},
   "outputs": [],
   "source": [
    "theta=np.arange(-m.pi,m.pi,0.1)\n",
    "y=np.cos(theta)\n",
    "print(y)"
   ]
  },
  {
   "cell_type": "markdown",
   "metadata": {
    "slideshow": {
     "slide_type": "fragment"
    }
   },
   "source": [
    "Créer un tableau entre 2 flottants avec N valeurs "
   ]
  },
  {
   "cell_type": "code",
   "execution_count": null,
   "metadata": {},
   "outputs": [],
   "source": [
    "z=np.linspace(-2,10,25)\n",
    "print(z)"
   ]
  },
  {
   "cell_type": "markdown",
   "metadata": {
    "slideshow": {
     "slide_type": "subslide"
    }
   },
   "source": [
    "Créer un tableau de nombres aléatoires :"
   ]
  },
  {
   "cell_type": "code",
   "execution_count": null,
   "metadata": {},
   "outputs": [],
   "source": [
    "flat_noise=np.random.random(50)\n",
    "print(flat_noise)"
   ]
  },
  {
   "cell_type": "markdown",
   "metadata": {
    "slideshow": {
     "slide_type": "slide"
    }
   },
   "source": [
    "### Tracés avec MatplotLib"
   ]
  },
  {
   "cell_type": "code",
   "execution_count": null,
   "metadata": {
    "slideshow": {
     "slide_type": "skip"
    }
   },
   "outputs": [],
   "source": [
    "%matplotlib inline"
   ]
  },
  {
   "cell_type": "code",
   "execution_count": null,
   "metadata": {},
   "outputs": [],
   "source": [
    "import numpy as np\n",
    "import matplotlib.pyplot as plt\n",
    "import math as m\n",
    "x=np.arange(-2*m.pi,2*m.pi,0.1)\n",
    "y=np.cos(x)\n",
    "y_noise=0.1*np.random.randn(y.size) # normal distribution of noise\n",
    "plt.plot(x,y+y_noise)\n",
    "plt.grid()"
   ]
  },
  {
   "cell_type": "markdown",
   "metadata": {
    "slideshow": {
     "slide_type": "subslide"
    }
   },
   "source": [
    "Afin d'interagir avec le graphique (zoom, déplacement, sauvegarde de la figure), il faut lancer une commande MatplotLib spécifique (attention, ne fonctionne pas dans tous les environnements…)."
   ]
  },
  {
   "cell_type": "code",
   "execution_count": null,
   "metadata": {},
   "outputs": [],
   "source": [
    "%matplotlib widget"
   ]
  },
  {
   "cell_type": "code",
   "execution_count": null,
   "metadata": {},
   "outputs": [],
   "source": [
    "# You have to try this in the notebook directly...\n",
    "plt.plot(x,y+y_noise)\n",
    "plt.grid()"
   ]
  },
  {
   "cell_type": "code",
   "execution_count": null,
   "metadata": {
    "slideshow": {
     "slide_type": "skip"
    }
   },
   "outputs": [],
   "source": [
    "%matplotlib inline"
   ]
  },
  {
   "cell_type": "markdown",
   "metadata": {
    "slideshow": {
     "slide_type": "slide"
    }
   },
   "source": [
    "### Ajustements"
   ]
  },
  {
   "cell_type": "markdown",
   "metadata": {},
   "source": [
    "#### Ajustement linéaire avec SciPy\n",
    "Mais il n'est pas aisé de récupérer les erreurs sur les paramètres ajustés…"
   ]
  },
  {
   "cell_type": "code",
   "execution_count": null,
   "metadata": {},
   "outputs": [],
   "source": [
    "from scipy import stats\n",
    "x=np.arange(0,1,0.1)\n",
    "dx=0.02\n",
    "dy=0.3\n",
    "y=-2*x+3+np.random.normal(0,dy,x.size)\n",
    "r = stats.linregress(x,y)\n",
    "mn=np.min(x)\n",
    "mx=np.max(x)\n",
    "x1=np.linspace(mn,mx,500)\n",
    "y1=r.slope*x1+r.intercept\n",
    "plt.errorbar(x,y,xerr=dx,yerr=dy,fmt='o',label='data')\n",
    "plt.plot(x1,y1,'-r',label='fit')\n",
    "plt.legend()\n",
    "plt.grid()\n",
    "print((r.slope,r.intercept))"
   ]
  },
  {
   "cell_type": "markdown",
   "metadata": {
    "slideshow": {
     "slide_type": "subslide"
    }
   },
   "source": [
    "#### Ajustement linéaire avec fitutils"
   ]
  },
  {
   "cell_type": "markdown",
   "metadata": {},
   "source": [
    "Attention : `fitutils` n'est pas un outil standard mais il est disponible sur votre server préféré ;) . Si vous cherchez ce module, vous le trouverez sur le server `jupy` dans `/home/libs/` (sauf s'il y a eu des modifications de configuration dernièrement…)\n",
    "\n",
    "Ce moudle est une nouvelle branche (version) de l'outil MatlabⓇ `linfitxy` disponible à  https://github.com/tjbtjbtjb/linfitxy.\n",
    "\n",
    "Principal avantage de cet outil : il gère les erreurs à la fois en `Y` et en `X`, alors que la plupart des outils ne le font pas."
   ]
  },
  {
   "cell_type": "code",
   "execution_count": null,
   "metadata": {
    "slideshow": {
     "slide_type": "fragment"
    }
   },
   "outputs": [],
   "source": [
    "import sys\n",
    "import fitutils as fu\n",
    "dx=np.ones(x.size)*dx\n",
    "dy=np.ones(y.size)*dy\n",
    "fu.linfitxy(x,y,dx,dy)\n",
    "plt.grid()"
   ]
  },
  {
   "cell_type": "code",
   "execution_count": null,
   "metadata": {
    "slideshow": {
     "slide_type": "skip"
    }
   },
   "outputs": [],
   "source": [
    "# And with curve_fit (without yerr), just for testing…\n",
    "\n",
    "def linear(x,a,b):\n",
    "    return a*x+b\n",
    "\n",
    "from scipy import optimize\n",
    "p,c=optimize.curve_fit(linear,x,y)\n",
    "err=np.zeros(np.size(p))\n",
    "for i in range(np.size(p)):\n",
    "    err[i]=m.sqrt(c[i][i])\n",
    "print(p,err)"
   ]
  },
  {
   "cell_type": "markdown",
   "metadata": {
    "slideshow": {
     "slide_type": "subslide"
    }
   },
   "source": [
    "#### Ajustement non linéaire\n",
    "Il peut être réaliser soit avec  `polyfit` (pour les polynômes) ou avec `curvefit` (pour n'importe quelle fonction). \n",
    "On pourra préférer ce `curvefit` car on peut facilement récupérer les erreurs des paramètres ajustés. Voir ci-dessous."
   ]
  },
  {
   "cell_type": "code",
   "execution_count": null,
   "metadata": {},
   "outputs": [],
   "source": [
    "def f1(x,a,b,c):\n",
    "    return a*x**2+b*x+c\n",
    "\n",
    "N=15\n",
    "x_exp=np.random.random(N)*10-5   # Get random x between -5 and +5\n",
    "y=f1(x_exp,-2,3,60)         # Compute y\n",
    "dy=np.random.randn(N)*5         # Some noise\n",
    "y_exp=y+dy                       # Let's assume those are experimental data\n",
    "\n",
    "# Fitting with polyfit \n",
    "p=np.polyfit(x_exp,y_exp,2)   # Fit with numpy.polyfit\n",
    "print(p)\n",
    "\n",
    "# Fitting with curvefit, try to fit a normal\n",
    "from scipy import optimize\n",
    "from scipy.stats import norm\n",
    "def f2(x,m,s,n): \n",
    "    return n*norm.pdf(x,m,s)\n",
    "\n",
    "param,cov=optimize.curve_fit(f2,x_exp,y_exp,p0=[0,1,10],sigma=np.ones(N)*5)\n",
    "err=np.zeros(np.size(param))\n",
    "for i in range(np.size(param)):\n",
    "    err[i]=m.sqrt(cov[i][i])\n",
    "print(param,err)"
   ]
  },
  {
   "cell_type": "code",
   "execution_count": null,
   "metadata": {
    "slideshow": {
     "slide_type": "subslide"
    }
   },
   "outputs": [],
   "source": [
    "plt.errorbar(x_exp,y_exp,yerr=5,fmt='*',label='data')\n",
    "x=np.arange(-5.5,5.5,0.05)\n",
    "plt.plot(x,f1(x,p[0],p[1],p[2]),'r',label='polyfit 2nd deg')\n",
    "plt.plot(x,f2(x,param[0],param[1],param[2]),'g',label='normal curvefit')\n",
    "plt.grid()\n",
    "plt.legend()"
   ]
  },
  {
   "cell_type": "markdown",
   "metadata": {
    "slideshow": {
     "slide_type": "slide"
    }
   },
   "source": [
    "### Quelques éléments de statistique"
   ]
  },
  {
   "cell_type": "code",
   "execution_count": null,
   "metadata": {
    "slideshow": {
     "slide_type": "fragment"
    }
   },
   "outputs": [],
   "source": [
    "import numpy as np\n",
    "x=np.random.normal(-3,1,250)\n",
    "plt.plot(x)\n",
    "s=np.std(x)\n",
    "m=np.mean(x)\n",
    "m2=np.median(x)\n",
    "print(s,m,m2)"
   ]
  },
  {
   "cell_type": "markdown",
   "metadata": {
    "slideshow": {
     "slide_type": "subslide"
    }
   },
   "source": [
    "### Histogrammes"
   ]
  },
  {
   "cell_type": "code",
   "execution_count": null,
   "metadata": {},
   "outputs": [],
   "source": [
    "histo,edges,z=plt.hist(x,12)"
   ]
  },
  {
   "cell_type": "markdown",
   "metadata": {
    "slideshow": {
     "slide_type": "slide"
    }
   },
   "source": [
    "## D'autres petites choses variés en python…"
   ]
  },
  {
   "cell_type": "markdown",
   "metadata": {
    "slideshow": {
     "slide_type": "fragment"
    }
   },
   "source": [
    "### Lire un simple texte"
   ]
  },
  {
   "cell_type": "code",
   "execution_count": null,
   "metadata": {},
   "outputs": [],
   "source": [
    "import matplotlib.pyplot as plt\n",
    "with open('file1.txt', 'r') as f:\n",
    "    lines = f.readlines()\n",
    "    x = [float(line.split()[0]) for line in lines]\n",
    "    y = [float(line.split()[1]) for line in lines]\n",
    "plt.plot(x ,y,'.')\n",
    "plt.show()"
   ]
  },
  {
   "cell_type": "markdown",
   "metadata": {},
   "source": [
    "## Lire un fichier issu d'un tableau (`csv`, `xlsx`, `json`, voire issu d'un tableau web)\n",
    "On utilisera pour cela utilement l'outil `pandas`, mais dont la puissance n'a d'égal que sa potentielle complexité. À essayer ! Deux exemples ci-dessous.\n",
    "\n",
    "https://pandas.pydata.org/"
   ]
  },
  {
   "cell_type": "code",
   "execution_count": null,
   "metadata": {},
   "outputs": [],
   "source": [
    "import pandas as pd"
   ]
  },
  {
   "cell_type": "code",
   "execution_count": null,
   "metadata": {},
   "outputs": [],
   "source": [
    "# cf. https://www.data.gouv.fr/fr/datasets/donnees-relatives-aux-personnes-vaccinees-contre-la-covid-19-1/\n",
    "vacc=pd.read_csv('https://www.data.gouv.fr/fr/datasets/r/e6fcd558-2ff6-487b-b624-e64a8c05bb07',sep=';')\n",
    "display(vacc)\n",
    "vacc[vacc.clage_vacsi==0][['jour','n_cum_dose1_h']].plot()"
   ]
  },
  {
   "cell_type": "code",
   "execution_count": null,
   "metadata": {},
   "outputs": [],
   "source": [
    "webpage=\"https://fr.wikipedia.org/wiki/Population_mondiale\"\n",
    "pop=pd.read_html(webpage)[2]\n",
    "display(pop)"
   ]
  },
  {
   "cell_type": "markdown",
   "metadata": {
    "slideshow": {
     "slide_type": "subslide"
    }
   },
   "source": [
    "### Interaction\n",
    "*Attention, cela doit être testé au sein d'un notebook et non en mode présentation*"
   ]
  },
  {
   "cell_type": "code",
   "execution_count": null,
   "metadata": {
    "slideshow": {
     "slide_type": "-"
    }
   },
   "outputs": [],
   "source": [
    "from ipywidgets import interact\n",
    "import numpy as np\n",
    "import matplotlib.pyplot as plt\n",
    "import matplotlib.axes as ax\n",
    "import math as m\n",
    "\n",
    "def f(nx,ny,wx,wy,phi):\n",
    "    t=np.linspace(0,m.pi*4,500)\n",
    "    x=nx*np.cos(t*wx)\n",
    "    y=ny*np.cos(t*wy+phi)\n",
    "    plt.plot(x,y)\n",
    "    plt.ylim((-2,2))\n",
    "    plt.xlim((-2,2))\n",
    "    plt.grid(True)\n",
    "    \n",
    "interact(f,nx=(0,2,0.1),ny=(0,2,0.1),wx=(0,6,0.5),wy=(0,6,0.5),phi=(-m.pi,m.pi,0.1))"
   ]
  },
  {
   "cell_type": "markdown",
   "metadata": {
    "slideshow": {
     "slide_type": "subslide"
    }
   },
   "source": [
    "## Communication (difficile à tester aujourd'hui, code donné pour référence)\n",
    "Attention, cela doit être lancé localement, pas dans un notebook"
   ]
  },
  {
   "cell_type": "code",
   "execution_count": null,
   "metadata": {},
   "outputs": [],
   "source": [
    "# Assume that arduino has the L/H Builtin LED program uploaded\n",
    "import serial\n",
    "s=serial.Serial('/dev/ttyACM0','9600') # One should change the path of the com port according to the actual machine\n",
    "s.write(b'L')\n",
    "s.write(b'H')"
   ]
  },
  {
   "cell_type": "markdown",
   "metadata": {
    "slideshow": {
     "slide_type": "slide"
    }
   },
   "source": [
    "# And now ?\n",
    "\n",
    "Jouons désormais avec Python ! Il faut pour cela se référer à la documentation, aux tutoriels, aux exemples, lire et modifier ceux-ci. \n",
    "\n",
    "Allons-y ! \n",
    "\n",
    "![](https://s2.qwant.com/thumbr/0x380/d/7/ad85e5a8111588067821cc67c73f299e13c50db58d9409fab1c7bfeaff1e89/1024px-Python-logo-notext.svg.png?u=https%3A%2F%2Fupload.wikimedia.org%2Fwikipedia%2Fcommons%2Fthumb%2Fc%2Fc3%2FPython-logo-notext.svg%2F1024px-Python-logo-notext.svg.png&q=0&b=1&p=0&a=1)"
   ]
  },
  {
   "cell_type": "code",
   "execution_count": null,
   "metadata": {},
   "outputs": [],
   "source": []
  }
 ],
 "metadata": {
  "kernelspec": {
   "display_name": "Python 3",
   "language": "python",
   "name": "python3"
  },
  "language_info": {
   "codemirror_mode": {
    "name": "ipython",
    "version": 3
   },
   "file_extension": ".py",
   "mimetype": "text/x-python",
   "name": "python",
   "nbconvert_exporter": "python",
   "pygments_lexer": "ipython3",
   "version": "3.8.6"
  },
  "toc-autonumbering": false,
  "toc-showcode": false,
  "toc-showmarkdowntxt": false
 },
 "nbformat": 4,
 "nbformat_minor": 4
}
