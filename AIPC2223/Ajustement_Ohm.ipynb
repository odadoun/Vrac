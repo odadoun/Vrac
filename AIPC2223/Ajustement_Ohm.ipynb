{
 "cells": [
  {
   "cell_type": "markdown",
   "id": "5a38f09f-a9d4-4905-aca1-575ca08fbdee",
   "metadata": {
    "tags": []
   },
   "source": [
    "# Ajustement de données issues de la méthode Volt-Ampère-métrique"
   ]
  },
  {
   "cell_type": "code",
   "execution_count": 2,
   "id": "94e78e4f-812a-4785-a153-48c016327440",
   "metadata": {},
   "outputs": [],
   "source": [
    "import numpy as np\n",
    "import matplotlib.pyplot as plt"
   ]
  },
  {
   "cell_type": "code",
   "execution_count": 29,
   "id": "6def480b-a43f-420d-8f81-faa6920dcd24",
   "metadata": {},
   "outputs": [],
   "source": [
    "I = np.array([-11.48,-9.08,-6.82,-4.47,-2.24,0,2.21,4.43,6.66,8.89,11.13])   # en mA\n",
    "U = np.array([-430,-349.4,-262.7,-172.3,-86.5,0,85.2,170.7,256.5,342.7,428]) # en mV"
   ]
  },
  {
   "cell_type": "markdown",
   "id": "3202715e-75b1-413c-a168-dd0dcaa4ef6c",
   "metadata": {},
   "source": [
    "Calcul des incertitudes"
   ]
  },
  {
   "cell_type": "code",
   "execution_count": 49,
   "id": "c5f0f782-2f81-4fe0-8ddc-c168e210b7fb",
   "metadata": {},
   "outputs": [],
   "source": [
    "u_I=((1./100)*np.abs(I)+2*0.01)/(np.sqrt(3)) ; # en mA, calibre 40 mA\n",
    "u_U=((0.8/100)*np.abs(U)+1)/(np.sqrt(3)) ;     # en mV, calibre 4 V"
   ]
  },
  {
   "cell_type": "markdown",
   "id": "a8cd7ecd-892d-422c-b42e-8b4551e73a0d",
   "metadata": {},
   "source": [
    "Afin d'avoir des incertitudes macroscopiques, nous les multiplions arbitrairement par 25 ici pour mieux illustrer les choses."
   ]
  },
  {
   "cell_type": "code",
   "execution_count": 50,
   "id": "17b7d029-ce8d-4c8c-99b3-a97c75b948b0",
   "metadata": {},
   "outputs": [],
   "source": [
    "u_U=25*u_U\n",
    "u_I=25*u_I"
   ]
  },
  {
   "cell_type": "markdown",
   "id": "b70381a6-f4ba-47eb-ac4c-a710f6a1844a",
   "metadata": {},
   "source": [
    "### Représentation avec `errorbar`"
   ]
  },
  {
   "cell_type": "code",
   "execution_count": 51,
   "id": "a8516dbf-2ca2-467c-a8ed-fc8d057a4536",
   "metadata": {},
   "outputs": [
    {
     "data": {
      "image/png": "[encoded data removed]",
      "text/plain": [
       "<Figure size 432x288 with 1 Axes>"
      ]
     },
     "metadata": {
      "needs_background": "light"
     },
     "output_type": "display_data"
    }
   ],
   "source": [
    "plt.errorbar(I,U,xerr=u_I,yerr=u_U,marker='',linestyle='')\n",
    "plt.xlabel('I (mA)')\n",
    "plt.ylabel('U (mV)')\n",
    "plt.grid()"
   ]
  },
  {
   "cell_type": "markdown",
   "id": "f29480a2-ae2e-4990-a673-7cf3d0b1ae41",
   "metadata": {},
   "source": [
    "Attention, nous représentons ici les incertitudes `x10` pour plus de visibilité. Dans leur calcul on prendra soin de prendre la valeur absolue de $I$ et $U$ afin de ne pas avoir des incertitudes estimées négatives…"
   ]
  },
  {
   "cell_type": "markdown",
   "id": "a3a53fe7-863e-4993-8d70-c63417d69b2c",
   "metadata": {},
   "source": [
    "## Ajustement avec `SciPy`"
   ]
  },
  {
   "cell_type": "code",
   "execution_count": 85,
   "id": "b919a4fb-3fe4-46c6-af7f-b043f7ec45c6",
   "metadata": {},
   "outputs": [
    {
     "name": "stdout",
     "output_type": "stream",
     "text": [
      "R= 38.25566660938379 ± 0.1398530185611056\n",
      "offset= 1.0597148444750502 ± 0.9956489361775736\n"
     ]
    },
    {
     "data": {
      "image/png": "[encoded data removed]",
      "text/plain": [
       "<Figure size 432x288 with 1 Axes>"
      ]
     },
     "metadata": {
      "needs_background": "light"
     },
     "output_type": "display_data"
    }
   ],
   "source": [
    "from scipy import stats\n",
    "r = stats.linregress(I,U)\n",
    "mn=np.min(I)\n",
    "mx=np.max(I)\n",
    "x1=np.linspace(mn,mx,100)\n",
    "y1=r.slope*x1+r.intercept\n",
    "plt.errorbar(I,U,xerr=u_I,yerr=u_U,fmt='.',label='data')\n",
    "plt.plot(x1,y1,'-r',label='fit')\n",
    "plt.legend()\n",
    "plt.xlabel('I (mA)')\n",
    "plt.ylabel('U (mV)')\n",
    "plt.grid()\n",
    "print('R=',r.slope,'±',r.stderr)\n",
    "print('offset=',r.intercept,'±',r.intercept_stderr)"
   ]
  },
  {
   "cell_type": "markdown",
   "id": "9512fa13-e839-4137-951e-f15f3f99964d",
   "metadata": {},
   "source": [
    "L'ajustement est affine ici, on ne peut imposer que l'ordonnée à l'origine passe bien par 0. Le modèle ajusté n'est pas celui du modèle physique (seconde loi d'Ohm), et ce degré de liberté supplémentaire change l'estimation de $R$ malheureusement.\n",
    "\n",
    "Par ailleurs cet ajustement ne prend pas en compte les incertitudes. La valeur de $u_R$ est assurément très sous-estimée."
   ]
  },
  {
   "cell_type": "markdown",
   "id": "8be76f36-909b-46cc-8fca-514eb818139b",
   "metadata": {
    "tags": []
   },
   "source": [
    "## Ajustement avec `polyfit`"
   ]
  },
  {
   "cell_type": "code",
   "execution_count": 62,
   "id": "62ddfe5a-c4df-4cb4-b608-e84781b422bf",
   "metadata": {},
   "outputs": [
    {
     "name": "stdout",
     "output_type": "stream",
     "text": [
      "[38.25566661  1.05971484] [[0.01955887 0.00136912]\n",
      " [0.00136912 0.9913168 ]]\n"
     ]
    }
   ],
   "source": [
    "# Fitting with polyfit \n",
    "p,V=np.polyfit(I,U,1,cov=True)   # Fit with numpy.polyfit\n",
    "print(p,V)"
   ]
  },
  {
   "cell_type": "code",
   "execution_count": 65,
   "id": "ad45d7a2-2625-4b1a-bfd1-2760f6b2b7c5",
   "metadata": {},
   "outputs": [
    {
     "name": "stdout",
     "output_type": "stream",
     "text": [
      "R= 38.255666609383795 ± 0.13985301856102894\n"
     ]
    }
   ],
   "source": [
    "print('R=',p[0],'±',np.sqrt(V[0][0]))"
   ]
  },
  {
   "cell_type": "markdown",
   "id": "96408f9e-6273-4fb3-bfb8-21a51641733b",
   "metadata": {},
   "source": [
    "Ajustement d'un polynôme de degré 1 (donc une loi toujours affine). Par ailleurs, l'estimation de l'incertitude est exact sous l'hypothèse d'indépendance de $R$ et de la pente, ce qui n'est pas exact.\n",
    "\n",
    "Ici non plus, pas d'utilisation des incertitudes estimées sur les points de mesure."
   ]
  },
  {
   "cell_type": "markdown",
   "id": "d691a646-cffb-4d22-aa7b-8acf7ec2ae0e",
   "metadata": {},
   "source": [
    "## Ajustement avec `curvfit`\n",
    "Ici nous pourrons imposer la fonction ajustée qui est une fonction linéaire, et non affine."
   ]
  },
  {
   "cell_type": "code",
   "execution_count": 69,
   "id": "09417de1-3291-4e9b-b90d-f3faa8140042",
   "metadata": {},
   "outputs": [
    {
     "name": "stdout",
     "output_type": "stream",
     "text": [
      "R= 38.35675800470264 ± 0.12028186068665937\n"
     ]
    }
   ],
   "source": [
    "from scipy import optimize\n",
    "\n",
    "def lin(x,a):\n",
    "    return a*x\n",
    "\n",
    "param,cov=optimize.curve_fit(lin,I,U,p0=[40],sigma=u_U)\n",
    "err=np.zeros(np.size(param))\n",
    "for i in range(np.size(param)):\n",
    "    err[i]=np.sqrt(cov[i][i])\n",
    "print('R=',param[0],'±',err[0])"
   ]
  },
  {
   "cell_type": "markdown",
   "id": "e0554e66-7bc0-4e19-9503-ed966e3d5d11",
   "metadata": {},
   "source": [
    "Ici nous avons une estimation prenant en compte les incertitudes $u_U$, mais pas $u_I$, les plus grandes dans notre cas. L'estimation de $u_R$ est assurément trop petite."
   ]
  },
  {
   "cell_type": "markdown",
   "id": "5518ffa3-f9cc-403b-a13b-0f097482efd1",
   "metadata": {},
   "source": [
    "## Estimation de l'incertitude par MC\n",
    "L'outil précédent effectue le même type de calcul. Nous allons ici effectuer l'estimation de l'incertitude par MC sur la base de `curv_fit` car cet outil permet d'imposer une loi linéaire."
   ]
  },
  {
   "cell_type": "code",
   "execution_count": 83,
   "id": "d6b698d4-5607-45cf-800c-48c46cf69766",
   "metadata": {},
   "outputs": [],
   "source": [
    "from scipy import optimize\n",
    "\n",
    "def lin(x,a):\n",
    "    return a*x\n",
    "\n",
    "nbPseudoExp=2048\n",
    "pList=[]\n",
    "for i in range(1024):\n",
    "    U_tmp=np.random.normal(U,u_U)\n",
    "    I_tmp=np.random.normal(I,u_I)\n",
    "    p,cov=optimize.curve_fit(lin,I_tmp,U_tmp,p0=[40])\n",
    "    pList.append(p[0])"
   ]
  },
  {
   "cell_type": "code",
   "execution_count": 84,
   "id": "2d02969f-7fd3-4725-92b4-d58bc8080f3b",
   "metadata": {},
   "outputs": [
    {
     "name": "stdout",
     "output_type": "stream",
     "text": [
      "R= 37.510479584738555 ± 3.51035589057415\n"
     ]
    }
   ],
   "source": [
    "print('R=',np.mean(pList),'±',np.std(pList))"
   ]
  },
  {
   "cell_type": "markdown",
   "id": "7f5de6a7-1f17-47bc-8a49-f34fc96bef32",
   "metadata": {},
   "source": [
    "Il nous prenons en compte non seulement l'incertitude $u_U$ mais aussi $u_I$. Et comme nous imposons un modèle linéaire conforme au modèle physique de référence, cet estimation est la plus correcte."
   ]
  },
  {
   "cell_type": "code",
   "execution_count": 105,
   "id": "8ea92678-58aa-4543-8e5d-48bc8151affa",
   "metadata": {},
   "outputs": [
    {
     "data": {
      "image/png": "[encoded data removed]",
      "text/plain": [
       "<Figure size 432x288 with 1 Axes>"
      ]
     },
     "metadata": {
      "needs_background": "light"
     },
     "output_type": "display_data"
    }
   ],
   "source": [
    "sMin=np.min(pList) # min slope\n",
    "sMax=np.max(pList) # max slope \n",
    "sMean=np.mean(pList) # mean slope\n",
    "\n",
    "mn=np.min(I)\n",
    "mx=np.max(I)\n",
    "x1=np.linspace(mn,mx,2)\n",
    "ymin=sMin*x1\n",
    "ymax=sMax*x1\n",
    "ymean=sMean*x1\n",
    "ylow=(sMean-np.std(pList))*x1\n",
    "yhigh=(sMean+np.std(pList))*x1\n",
    "\n",
    "plt.errorbar(I,U,xerr=u_I,yerr=u_U,fmt='.',label='data')\n",
    "plt.plot(x1,ymean,'r',label=\"fit\")\n",
    "plt.plot(x1,ymin,\"g\")\n",
    "plt.plot(x1,ymax,\"g\",label=\"bornes max\")\n",
    "plt.plot(x1,ylow,color=\"orange\")\n",
    "plt.plot(x1,yhigh,color=\"orange\",label=\"bornes à 1σ\")\n",
    "plt.legend()\n",
    "plt.xlabel('I (mA)')\n",
    "plt.ylabel('U (mV)')\n",
    "plt.grid()"
   ]
  },
  {
   "cell_type": "markdown",
   "id": "09f7337c-48ec-4b60-bd81-f154608ea192",
   "metadata": {},
   "source": [
    "## Exploitation des données sans ajustement"
   ]
  },
  {
   "cell_type": "markdown",
   "id": "120173b2-4c75-48a3-b7f7-f410e28a778d",
   "metadata": {},
   "source": [
    "Pour exploiter les données sans ajustement, nous appliquons le modèle de la seconde loi d'Ohm pour chaque point. Pour cela il faut exclure la donnée où $I=0$."
   ]
  },
  {
   "cell_type": "code",
   "execution_count": 113,
   "id": "cd44863c-8bd8-4588-9034-f6b14f3c5f7e",
   "metadata": {},
   "outputs": [],
   "source": [
    "UU=U[I!=0]\n",
    "II=I[I!=0]\n",
    "u_UU=u_U[I!=0]\n",
    "u_II=u_I[I!=0]\n",
    "\n",
    "RR=UU/II\n",
    "u_RR=RR*np.sqrt((u_UU/UU)**2+(u_II/II)**2)"
   ]
  },
  {
   "cell_type": "code",
   "execution_count": 116,
   "id": "efe7f415-6555-4818-bc85-bfadbe4ce20f",
   "metadata": {},
   "outputs": [
    {
     "data": {
      "image/png": "[encoded data removed]",
      "text/plain": [
       "<Figure size 432x288 with 1 Axes>"
      ]
     },
     "metadata": {
      "needs_background": "light"
     },
     "output_type": "display_data"
    }
   ],
   "source": [
    "plt.errorbar(II,RR,yerr=u_RR,fmt='.')\n",
    "plt.grid()"
   ]
  },
  {
   "cell_type": "code",
   "execution_count": 118,
   "id": "deaf5138-4e7a-4a67-851e-05fa7fc11e87",
   "metadata": {},
   "outputs": [
    {
     "data": {
      "text/plain": [
       "38.42194561212065"
      ]
     },
     "execution_count": 118,
     "metadata": {},
     "output_type": "execute_result"
    }
   ],
   "source": [
    "np.mean(RR)"
   ]
  },
  {
   "cell_type": "markdown",
   "id": "d79cde3b-4648-485e-bdc2-c58ff74ca31c",
   "metadata": {},
   "source": [
    "L'estimation de l'incertitude passe aussi par un MC."
   ]
  },
  {
   "cell_type": "code",
   "execution_count": 120,
   "id": "cc0f836d-36af-4869-9a8c-a3fc1dea7e38",
   "metadata": {},
   "outputs": [
    {
     "name": "stdout",
     "output_type": "stream",
     "text": [
      "R= 38.62233919324994 ± 3.42746582585456\n"
     ]
    }
   ],
   "source": [
    "nbPseudoExp=2048\n",
    "rMeanList=[]\n",
    "for i in range(1024):\n",
    "    R_tmp=np.random.normal(RR,u_RR)\n",
    "    rMeanList.append(np.mean(R_tmp))\n",
    "print('R=',np.mean(rMeanList),'±',np.std(rMeanList))"
   ]
  },
  {
   "cell_type": "markdown",
   "id": "6be67a0c-b2a9-4fc5-957f-2d8ecd9fa2e2",
   "metadata": {},
   "source": [
    "On notera que l'incertitude est très similaire par l'utilisation de cette méthode à la sortie du MC de l'ajustement. Cette méthode, sans ajustement, est de fait bien plus simple à mettre en œuvre."
   ]
  },
  {
   "cell_type": "code",
   "execution_count": 121,
   "id": "cae7ad80-f2ae-4290-afa9-4649af240301",
   "metadata": {},
   "outputs": [
    {
     "name": "stdout",
     "output_type": "stream",
     "text": [
      "Help on package fitutils:\n",
      "\n",
      "NAME\n",
      "    fitutils\n",
      "\n",
      "DESCRIPTION\n",
      "    # from .fitutils import *\n",
      "    # from .fitutils import fitter\n",
      "    # from .fitutils import _Fit, _LinFitXY\n",
      "\n",
      "PACKAGE CONTENTS\n",
      "    fitutils\n",
      "    fitutils-Copy1\n",
      "    fitutils_2019-2020\n",
      "    fitutils_bck\n",
      "    fitutils_bck2\n",
      "    fitutils_work\n",
      "\n",
      "FILE\n",
      "    /home/libs/fitutils/__init__.py\n",
      "\n",
      "\n"
     ]
    }
   ],
   "source": [
    "help(fu)"
   ]
  },
  {
   "cell_type": "code",
   "execution_count": null,
   "id": "379ff72a-92ad-433f-9739-fa1d6e798975",
   "metadata": {},
   "outputs": [],
   "source": []
  }
 ],
 "metadata": {
  "kernelspec": {
   "display_name": "Python 3",
   "language": "python",
   "name": "python3"
  },
  "language_info": {
   "codemirror_mode": {
    "name": "ipython",
    "version": 3
   },
   "file_extension": ".py",
   "mimetype": "text/x-python",
   "name": "python",
   "nbconvert_exporter": "python",
   "pygments_lexer": "ipython3",
   "version": "3.8.6"
  }
 },
 "nbformat": 4,
 "nbformat_minor": 5
}
